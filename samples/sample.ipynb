{
 "cells": [
  {
   "cell_type": "markdown",
   "metadata": {
    "tags": []
   },
   "source": [
    "# JupyterLab Light Theme"
   ]
  },
  {
   "cell_type": "code",
   "execution_count": null,
   "metadata": {},
   "outputs": [],
   "source": [
    "# functions\n",
    "def func1(i: int) -> list:\n",
    "    \"\"\"Docstring\"\"\"\n",
    "    return [i for i in range(9) if i % 2 == 0]\n",
    "\n",
    "def func2():\n",
    "    try:\n",
    "        print(x)\n",
    "    except:\n",
    "        print(\"Something went wrong\")\n",
    "    finally:\n",
    "        print(\"The 'try except' is finished\")\n",
    "\n",
    "x = lambda a, b : a * b\n",
    "\n",
    "func1(10)"
   ]
  },
  {
   "cell_type": "code",
   "execution_count": null,
   "metadata": {},
   "outputs": [],
   "source": [
    "# classes\n",
    "class Person:\n",
    "    def __init__(self, name, age):\n",
    "        self.name = name\n",
    "        self.age = age\n",
    "\n",
    "@person('something')\n",
    "\n",
    "p1 = Person('Iris', 25)\n",
    "\n",
    "print(p1.name)\n",
    "print(p1.age)"
   ]
  },
  {
   "cell_type": "code",
   "execution_count": null,
   "metadata": {},
   "outputs": [],
   "source": [
    "thisdict = {\n",
    "  \"country\": \"brazil\",\n",
    "  \"year\": 2022,\n",
    "  \"occupation\": None\n",
    "}"
   ]
  },
  {
   "cell_type": "code",
   "execution_count": null,
   "metadata": {},
   "outputs": [],
   "source": [
    "import re\n",
    "\n",
    "txt = \"The rain in Curitiba\"\n",
    "x = re.search(\"^The.*Curitiba$\", txt)\n",
    "\n",
    "# strings\n",
    "['single quotes', \"double quotes\",]\n",
    "\n",
    "\"\"\"multi line double quotes\n",
    "\"\"\"\n",
    "\n",
    "'''multi line single quotes\n",
    "'''\n",
    "\n",
    "b = \"Hello, World!\"\n",
    "print(b[2:5])\n",
    "print(f'{b}')\n",
    "\n",
    "# numerical\n",
    "[5, 5.0, 5_000_000, 5e6, 5j]\n",
    "\n",
    "# operators\n",
    "= != <> % / * | & ~ ^\n",
    "[and, is, not, or, in,]\n",
    "\n",
    "# bracket pairs\n",
    "{{(())}} {(\n",
    "\n",
    "# data types\n",
    "[str, bool, int, dict,]\n",
    "x = int('one')\n",
    "    \n",
    "# magic\n",
    "%run\n",
    "%%time"
   ]
  }
 ],
 "metadata": {
  "kernelspec": {
   "display_name": "Py3.10",
   "language": "python",
   "name": "python3"
  },
  "language_info": {
   "codemirror_mode": {
    "name": "ipython",
    "version": 3
   },
   "file_extension": ".py",
   "mimetype": "text/x-python",
   "name": "python",
   "nbconvert_exporter": "python",
   "pygments_lexer": "ipython3",
   "version": "3.10.5"
  },
  "vscode": {
   "interpreter": {
    "hash": "6c047662a869790a3a05a70c8de1bf09db1b33ed04353761a0d9d8972667c3d8"
   }
  }
 },
 "nbformat": 4,
 "nbformat_minor": 4
}
